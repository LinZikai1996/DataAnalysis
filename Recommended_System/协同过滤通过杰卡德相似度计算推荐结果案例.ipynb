{
 "metadata": {
  "language_info": {
   "codemirror_mode": {
    "name": "ipython",
    "version": 3
   },
   "file_extension": ".py",
   "mimetype": "text/x-python",
   "name": "python",
   "nbconvert_exporter": "python",
   "pygments_lexer": "ipython3",
   "version": "3.7.6-final"
  },
  "orig_nbformat": 2,
  "kernelspec": {
   "name": "pycharm-5d798be8",
   "language": "python",
   "display_name": "PyCharm (machineLearning)"
  }
 },
 "nbformat": 4,
 "nbformat_minor": 2,
 "cells": [
  {
   "cell_type": "code",
   "execution_count": 1,
   "metadata": {},
   "outputs": [],
   "source": [
    "users = ['user1','user2','user3','user4','user5']\n",
    "\n",
    "items = ['itemA','itemB','itemC','itemD','itemE']\n",
    "\n",
    "# 用户购买记录\n",
    "datasets = [\n",
    "    [1,0,1,1,0],\n",
    "    [1,0,0,1,1],\n",
    "    [1,0,1,0,0],\n",
    "    [0,1,0,1,1],\n",
    "    [1,1,1,0,1]\n",
    "]"
   ]
  },
  {
   "cell_type": "code",
   "execution_count": 2,
   "metadata": {},
   "outputs": [],
   "source": [
    "import pandas as pd\n",
    "\n",
    "df = pd.DataFrame(datasets, columns=items, index=users)"
   ]
  },
  {
   "cell_type": "code",
   "execution_count": 3,
   "metadata": {
    "tags": []
   },
   "outputs": [
    {
     "name": "stdout",
     "output_type": "stream",
     "text": [
      "       itemA  itemB  itemC  itemD  itemE\n",
      "user1      1      0      1      1      0\n",
      "user2      1      0      0      1      1\n",
      "user3      1      0      1      0      0\n",
      "user4      0      1      0      1      1\n",
      "user5      1      1      1      0      1\n"
     ]
    }
   ],
   "source": [
    "print(df)"
   ]
  },
  {
   "cell_type": "code",
   "execution_count": 4,
   "metadata": {},
   "outputs": [
    {
     "name": "stderr",
     "output_type": "stream",
     "text": [
      "E:\\software\\anaconda3\\lib\\site-packages\\sklearn\\metrics\\_classification.py:664: FutureWarning: jaccard_similarity_score has been deprecated and replaced with jaccard_score. It will be removed in version 0.23. This implementation has surprising behavior for binary and multiclass classification tasks.\n",
      "  FutureWarning)\n"
     ]
    },
    {
     "data": {
      "text/plain": "0.2"
     },
     "execution_count": 4,
     "metadata": {},
     "output_type": "execute_result"
    }
   ],
   "source": [
    "from sklearn.metrics import jaccard_similarity_score\n",
    "\n",
    "# 直接计算 itemA 和itemB 的相似度\n",
    "jaccard_similarity_score(df['itemA'], df['itemB'])"
   ]
  },
  {
   "cell_type": "code",
   "execution_count": 5,
   "metadata": {},
   "outputs": [
    {
     "name": "stderr",
     "output_type": "stream",
     "text": [
      "E:\\software\\anaconda3\\lib\\site-packages\\sklearn\\metrics\\pairwise.py:1735: DataConversionWarning: Data was converted to boolean for metric jaccard\n",
      "  warnings.warn(msg, DataConversionWarning)\n"
     ]
    },
    {
     "data": {
      "text/plain": "          user1  user2     user3  user4  user5\nuser1  1.000000   0.50  0.666667    0.2    0.4\nuser2  0.500000   1.00  0.250000    0.5    0.4\nuser3  0.666667   0.25  1.000000    0.0    0.5\nuser4  0.200000   0.50  0.000000    1.0    0.4\nuser5  0.400000   0.40  0.500000    0.4    1.0",
      "text/html": "<div>\n<style scoped>\n    .dataframe tbody tr th:only-of-type {\n        vertical-align: middle;\n    }\n\n    .dataframe tbody tr th {\n        vertical-align: top;\n    }\n\n    .dataframe thead th {\n        text-align: right;\n    }\n</style>\n<table border=\"1\" class=\"dataframe\">\n  <thead>\n    <tr style=\"text-align: right;\">\n      <th></th>\n      <th>user1</th>\n      <th>user2</th>\n      <th>user3</th>\n      <th>user4</th>\n      <th>user5</th>\n    </tr>\n  </thead>\n  <tbody>\n    <tr>\n      <th>user1</th>\n      <td>1.000000</td>\n      <td>0.50</td>\n      <td>0.666667</td>\n      <td>0.2</td>\n      <td>0.4</td>\n    </tr>\n    <tr>\n      <th>user2</th>\n      <td>0.500000</td>\n      <td>1.00</td>\n      <td>0.250000</td>\n      <td>0.5</td>\n      <td>0.4</td>\n    </tr>\n    <tr>\n      <th>user3</th>\n      <td>0.666667</td>\n      <td>0.25</td>\n      <td>1.000000</td>\n      <td>0.0</td>\n      <td>0.5</td>\n    </tr>\n    <tr>\n      <th>user4</th>\n      <td>0.200000</td>\n      <td>0.50</td>\n      <td>0.000000</td>\n      <td>1.0</td>\n      <td>0.4</td>\n    </tr>\n    <tr>\n      <th>user5</th>\n      <td>0.400000</td>\n      <td>0.40</td>\n      <td>0.500000</td>\n      <td>0.4</td>\n      <td>1.0</td>\n    </tr>\n  </tbody>\n</table>\n</div>"
     },
     "execution_count": 5,
     "metadata": {},
     "output_type": "execute_result"
    }
   ],
   "source": [
    "# 用户相关性\n",
    "from sklearn.metrics.pairwise import pairwise_distances\n",
    "# scikit-learn从0.20.1不再自动修改numpy语法。所以需要养成更加规范的书写习惯\n",
    "# pairwise_distances(df, metric=\"jaccard\") ×\n",
    "user_similar = 1 - pairwise_distances(df.values, metric=\"jaccard\")\n",
    "\n",
    "user_similar = pd.DataFrame(user_similar, columns=users, index=users)\n",
    "\n",
    "user_similar"
   ]
  },
  {
   "cell_type": "code",
   "execution_count": 6,
   "metadata": {},
   "outputs": [
    {
     "name": "stderr",
     "output_type": "stream",
     "text": [
      "E:\\software\\anaconda3\\lib\\site-packages\\sklearn\\metrics\\pairwise.py:1735: DataConversionWarning: Data was converted to boolean for metric jaccard\n",
      "  warnings.warn(msg, DataConversionWarning)\n"
     ]
    },
    {
     "data": {
      "text/plain": "       itemA     itemB  itemC  itemD     itemE\nitemA   1.00  0.200000   0.75   0.40  0.400000\nitemB   0.20  1.000000   0.25   0.25  0.666667\nitemC   0.75  0.250000   1.00   0.20  0.200000\nitemD   0.40  0.250000   0.20   1.00  0.500000\nitemE   0.40  0.666667   0.20   0.50  1.000000",
      "text/html": "<div>\n<style scoped>\n    .dataframe tbody tr th:only-of-type {\n        vertical-align: middle;\n    }\n\n    .dataframe tbody tr th {\n        vertical-align: top;\n    }\n\n    .dataframe thead th {\n        text-align: right;\n    }\n</style>\n<table border=\"1\" class=\"dataframe\">\n  <thead>\n    <tr style=\"text-align: right;\">\n      <th></th>\n      <th>itemA</th>\n      <th>itemB</th>\n      <th>itemC</th>\n      <th>itemD</th>\n      <th>itemE</th>\n    </tr>\n  </thead>\n  <tbody>\n    <tr>\n      <th>itemA</th>\n      <td>1.00</td>\n      <td>0.200000</td>\n      <td>0.75</td>\n      <td>0.40</td>\n      <td>0.400000</td>\n    </tr>\n    <tr>\n      <th>itemB</th>\n      <td>0.20</td>\n      <td>1.000000</td>\n      <td>0.25</td>\n      <td>0.25</td>\n      <td>0.666667</td>\n    </tr>\n    <tr>\n      <th>itemC</th>\n      <td>0.75</td>\n      <td>0.250000</td>\n      <td>1.00</td>\n      <td>0.20</td>\n      <td>0.200000</td>\n    </tr>\n    <tr>\n      <th>itemD</th>\n      <td>0.40</td>\n      <td>0.250000</td>\n      <td>0.20</td>\n      <td>1.00</td>\n      <td>0.500000</td>\n    </tr>\n    <tr>\n      <th>itemE</th>\n      <td>0.40</td>\n      <td>0.666667</td>\n      <td>0.20</td>\n      <td>0.50</td>\n      <td>1.000000</td>\n    </tr>\n  </tbody>\n</table>\n</div>"
     },
     "execution_count": 6,
     "metadata": {},
     "output_type": "execute_result"
    }
   ],
   "source": [
    "# 物品相关性\n",
    "item_similar = 1 - pairwise_distances(df.T.values, metric=\"jaccard\")\n",
    "\n",
    "item_similar = pd.DataFrame(item_similar, columns=items, index=items)\n",
    "\n",
    "item_similar"
   ]
  },
  {
   "cell_type": "code",
   "execution_count": 7,
   "metadata": {},
   "outputs": [
    {
     "data": {
      "text/plain": "{'user1': ['user3', 'user2'],\n 'user2': ['user4', 'user1'],\n 'user3': ['user1', 'user5'],\n 'user4': ['user2', 'user5'],\n 'user5': ['user3', 'user4']}"
     },
     "execution_count": 7,
     "metadata": {},
     "output_type": "execute_result"
    }
   ],
   "source": [
    "topN_users = {}\r\n",
    "# 为每个用户找到最相似的用户\r\n",
    "\r\n",
    "for i in user_similar.index:\r\n",
    "    # 去出每一行数据，删除自己\r\n",
    "    data = user_similar.loc[i].drop([i])\r\n",
    "    # 大到小排序\r\n",
    "    data_sort = data.sort_values(ascending = False)\r\n",
    "    topN_users[i] = list(data_sort.index[:2])\r\n",
    "\r\n",
    "topN_users"
   ]
  },
  {
   "cell_type": "code",
   "execution_count": 8,
   "metadata": {},
   "outputs": [
    {
     "data": {
      "text/plain": "{'user1': {'itemC'},\n 'user2': {'itemB', 'itemE'},\n 'user3': {'itemD'},\n 'user4': {'itemD'},\n 'user5': {'itemA', 'itemC'}}"
     },
     "execution_count": 8,
     "metadata": {},
     "output_type": "execute_result"
    }
   ],
   "source": [
    "import numpy as np\n",
    "rs_results = {}\n",
    "\n",
    "for user, users_sim in topN_users.items():\n",
    "    rs_result = set()\n",
    "    \n",
    "    for user_sim in users_sim:\n",
    "        rs_result = rs_result.union(set(df.loc[user_sim].replace(0, np.nan).dropna().index))\n",
    "    \n",
    "    rs_result -= set(df.loc[user_sim].replace(0, np.nan).dropna().index)\n",
    "\n",
    "    rs_results[user] = rs_result\n",
    "\n",
    "rs_results"
   ]
  },
  {
   "cell_type": "code",
   "execution_count": null,
   "metadata": {},
   "outputs": [],
   "source": []
  }
 ]
}